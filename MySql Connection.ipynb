{
 "cells": [
  {
   "cell_type": "code",
   "execution_count": 22,
   "metadata": {},
   "outputs": [
    {
     "ename": "AttributeError",
     "evalue": "module 'clr' has no attribute 'AddReferenceToFile'",
     "output_type": "error",
     "traceback": [
      "\u001b[1;31m---------------------------------------------------------------------------\u001b[0m",
      "\u001b[1;31mAttributeError\u001b[0m                            Traceback (most recent call last)",
      "\u001b[1;32m~\\AppData\\Local\\Temp\\ipykernel_27568\\2764036350.py\u001b[0m in \u001b[0;36m<module>\u001b[1;34m\u001b[0m\n\u001b[0;32m      1\u001b[0m \u001b[1;32mimport\u001b[0m \u001b[0mclr\u001b[0m\u001b[1;33m\u001b[0m\u001b[0m\n\u001b[1;32m----> 2\u001b[1;33m \u001b[0mclr\u001b[0m\u001b[1;33m.\u001b[0m\u001b[0mAddReferenceToFile\u001b[0m\u001b[1;33m(\u001b[0m\u001b[1;34m'MySql.Data.dll'\u001b[0m\u001b[1;33m)\u001b[0m \u001b[1;31m# Namespace\u001b[0m\u001b[1;33m\u001b[0m\u001b[0m\n\u001b[0m\u001b[0;32m      3\u001b[0m \u001b[1;32mfrom\u001b[0m \u001b[0mMySql\u001b[0m\u001b[1;33m.\u001b[0m\u001b[0mData\u001b[0m \u001b[1;32mimport\u001b[0m \u001b[0mMySqlClient\u001b[0m\u001b[1;33m\u001b[0m\u001b[0m\n",
      "\u001b[1;31mAttributeError\u001b[0m: module 'clr' has no attribute 'AddReferenceToFile'"
     ]
    }
   ],
   "source": [
    "import clr\n",
    "clr.AddReferenceToFileAndPath('dll\\MySql.Data.dll') # Namespace\n",
    "from MySql.Data import MySqlClient"
   ]
  },
  {
   "cell_type": "code",
   "execution_count": 14,
   "metadata": {},
   "outputs": [],
   "source": [
    "Server = 'vector'\n",
    "Database = 'world'\n",
    "User = 'amritsql'\n",
    "Password = 'Amrit-sql876'\n",
    "connectionString = f'server={Server}; database={Database}; uid={User}; pwd={Password}'\n",
    "connection = MySqlClient.MySqlConnection(connectionString)"
   ]
  },
  {
   "cell_type": "code",
   "execution_count": 4,
   "metadata": {},
   "outputs": [],
   "source": [
    "query = \"select * from dbo.tablea\""
   ]
  },
  {
   "cell_type": "code",
   "execution_count": 15,
   "metadata": {},
   "outputs": [
    {
     "name": "stdout",
     "output_type": "stream",
     "text": [
      "True\n",
      "1\n",
      "1\n",
      "2\n",
      "3\n",
      "4\n",
      "5\n"
     ]
    }
   ],
   "source": [
    "cmd = connection.CreateCommand()\n",
    "cmd.CommandText = query\n",
    "\n",
    "try:\n",
    "    connection.Open()\n",
    "    reader = cmd.ExecuteReader()\n",
    "    print(reader.HasRows)\n",
    "    print(reader.FieldCount)\n",
    "    while reader.Read():\n",
    "        print(reader['id'])\n",
    "        # print(reader[0])\n",
    "    connection.Close()\n",
    "except Exception as e:\n",
    "    print(e)\n",
    "    connection.Close()"
   ]
  },
  {
   "cell_type": "code",
   "execution_count": 49,
   "metadata": {},
   "outputs": [
    {
     "name": "stdout",
     "output_type": "stream",
     "text": [
      "True\n",
      "1\n",
      "1\n",
      "2\n",
      "3\n",
      "4\n"
     ]
    }
   ],
   "source": [
    "cmd = MySqlClient.MySqlCommand()\n",
    "cmd.Connection = connection\n",
    "cmd.CommandText = query\n",
    "\n",
    "try:\n",
    "    connection.Open()\n",
    "    reader = cmd.ExecuteReader()\n",
    "    print(reader.HasRows)\n",
    "    print(reader.FieldCount)\n",
    "    while reader.Read():\n",
    "        print(reader['id'])\n",
    "        # print(reader[0])\n",
    "    connection.Close()\n",
    "except Exception as e:\n",
    "    print(e)\n",
    "    connection.Close()"
   ]
  },
  {
   "cell_type": "code",
   "execution_count": 62,
   "metadata": {},
   "outputs": [
    {
     "name": "stdout",
     "output_type": "stream",
     "text": [
      "True\n",
      "1\n",
      "1\n",
      "2\n",
      "3\n",
      "4\n",
      "5\n"
     ]
    }
   ],
   "source": [
    "cmd = MySqlClient.MySqlCommand(query, connection)\n",
    "\n",
    "try:\n",
    "    connection.Open()\n",
    "    reader = cmd.ExecuteReader()\n",
    "    print(reader.HasRows)\n",
    "    print(reader.FieldCount)\n",
    "    while reader.Read():\n",
    "        print(reader['id'])\n",
    "        # print(reader[0])\n",
    "    connection.Close()\n",
    "except Exception as e:\n",
    "    print(e)\n",
    "    connection.Close()"
   ]
  },
  {
   "cell_type": "code",
   "execution_count": 61,
   "metadata": {},
   "outputs": [],
   "source": [
    "nonQuery = \"insert into dbo.tablea (id) values (5)\"\n",
    "# nonQuery = \"delete from dbo.tablea where id = 5\"\n",
    "cmd = MySqlClient.MySqlCommand(nonQuery, connection)\n",
    "\n",
    "try:\n",
    "    connection.Open()\n",
    "    cmd.ExecuteNonQuery()\n",
    "    connection.Close()\n",
    "except Exception as e:\n",
    "    print(e)\n",
    "    connection.Close()"
   ]
  }
 ],
 "metadata": {
  "kernelspec": {
   "display_name": "Python 3.7.0 64-bit",
   "language": "python",
   "name": "python3"
  },
  "language_info": {
   "codemirror_mode": {
    "name": "ipython",
    "version": 3
   },
   "file_extension": ".py",
   "mimetype": "text/x-python",
   "name": "python",
   "nbconvert_exporter": "python",
   "pygments_lexer": "ipython3",
   "version": "3.7.0"
  },
  "orig_nbformat": 4,
  "vscode": {
   "interpreter": {
    "hash": "5109d816b82be14675a6b11f8e0f0d2e80f029176ed3710d54e125caa8520dfd"
   }
  }
 },
 "nbformat": 4,
 "nbformat_minor": 2
}
