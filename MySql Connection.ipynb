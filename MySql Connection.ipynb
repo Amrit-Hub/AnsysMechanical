{
 "cells": [
  {
   "cell_type": "code",
   "execution_count": 19,
   "metadata": {},
   "outputs": [
    {
     "ename": "FileNotFoundException",
     "evalue": "Could not load file or assembly 'MySql.Data.dll' or one of its dependencies. The system cannot find the file specified.\r\nFile name: 'MySql.Data.dll'\r\n   at System.Reflection.RuntimeAssembly._nLoad(AssemblyName fileName, String codeBase, Evidence assemblySecurity, RuntimeAssembly locationHint, StackCrawlMark& stackMark, IntPtr pPrivHostBinder, Boolean throwOnFileNotFound, Boolean forIntrospection, Boolean suppressSecurityChecks)\r\n   at System.Reflection.RuntimeAssembly.InternalLoadAssemblyName(AssemblyName assemblyRef, Evidence assemblySecurity, RuntimeAssembly reqAssembly, StackCrawlMark& stackMark, IntPtr pPrivHostBinder, Boolean throwOnFileNotFound, Boolean forIntrospection, Boolean suppressSecurityChecks)\r\n   at System.Reflection.Assembly.Load(AssemblyName assemblyRef)\r\n   at Python.Runtime.AssemblyManager.LoadAssembly(AssemblyName name)\r\n   at Python.Runtime.CLRModule.AddReference(String name)\r\n\r\nWRN: Assembly binding logging is turned OFF.\r\nTo enable assembly bind failure logging, set the registry value [HKLM\\Software\\Microsoft\\Fusion!EnableLog] (DWORD) to 1.\r\nNote: There is some performance penalty associated with assembly bind failure logging.\r\nTo turn this feature off, remove the registry value [HKLM\\Software\\Microsoft\\Fusion!EnableLog].\r\n",
     "output_type": "error",
     "traceback": [
      "\u001b[1;31m---------------------------------------------------------------------------\u001b[0m",
      "\u001b[1;31mFileNotFoundException\u001b[0m                     Traceback (most recent call last)",
      "\u001b[1;32m~\\AppData\\Local\\Temp\\ipykernel_27568\\2067013406.py\u001b[0m in \u001b[0;36m<module>\u001b[1;34m\u001b[0m\n\u001b[0;32m      1\u001b[0m \u001b[1;32mimport\u001b[0m \u001b[0mclr\u001b[0m\u001b[1;33m\u001b[0m\u001b[0m\n\u001b[1;32m----> 2\u001b[1;33m \u001b[0mclr\u001b[0m\u001b[1;33m.\u001b[0m\u001b[0mAddReference\u001b[0m\u001b[1;33m(\u001b[0m\u001b[1;34m'MySql.Data.dll'\u001b[0m\u001b[1;33m)\u001b[0m \u001b[1;31m# Namespace\u001b[0m\u001b[1;33m\u001b[0m\u001b[0m\n\u001b[0m\u001b[0;32m      3\u001b[0m \u001b[1;32mfrom\u001b[0m \u001b[0mMySql\u001b[0m\u001b[1;33m.\u001b[0m\u001b[0mData\u001b[0m \u001b[1;32mimport\u001b[0m \u001b[0mMySqlClient\u001b[0m\u001b[1;33m\u001b[0m\u001b[0m\n",
      "\u001b[1;31mFileNotFoundException\u001b[0m: Could not load file or assembly 'MySql.Data.dll' or one of its dependencies. The system cannot find the file specified.\r\nFile name: 'MySql.Data.dll'\r\n   at System.Reflection.RuntimeAssembly._nLoad(AssemblyName fileName, String codeBase, Evidence assemblySecurity, RuntimeAssembly locationHint, StackCrawlMark& stackMark, IntPtr pPrivHostBinder, Boolean throwOnFileNotFound, Boolean forIntrospection, Boolean suppressSecurityChecks)\r\n   at System.Reflection.RuntimeAssembly.InternalLoadAssemblyName(AssemblyName assemblyRef, Evidence assemblySecurity, RuntimeAssembly reqAssembly, StackCrawlMark& stackMark, IntPtr pPrivHostBinder, Boolean throwOnFileNotFound, Boolean forIntrospection, Boolean suppressSecurityChecks)\r\n   at System.Reflection.Assembly.Load(AssemblyName assemblyRef)\r\n   at Python.Runtime.AssemblyManager.LoadAssembly(AssemblyName name)\r\n   at Python.Runtime.CLRModule.AddReference(String name)\r\n\r\nWRN: Assembly binding logging is turned OFF.\r\nTo enable assembly bind failure logging, set the registry value [HKLM\\Software\\Microsoft\\Fusion!EnableLog] (DWORD) to 1.\r\nNote: There is some performance penalty associated with assembly bind failure logging.\r\nTo turn this feature off, remove the registry value [HKLM\\Software\\Microsoft\\Fusion!EnableLog].\r\n"
     ]
    }
   ],
   "source": [
    "import clr\n",
    "clr.AddReference('MySql.Data.dll') # Namespace\n",
    "from MySql.Data import MySqlClient"
   ]
  },
  {
   "cell_type": "code",
   "execution_count": 14,
   "metadata": {},
   "outputs": [],
   "source": [
    "Server = 'TIGER03957\\SQLSERVER2022'\n",
    "Database = 'dbapsqlserver'\n",
    "User = 'amritsql'\n",
    "Password = 'Amrit-sql876'\n",
    "connectionString = f'Server = {Server}; Database = {Database}; Integrated Security=True; Connect Timeout=10'\n",
    "connection = SqlClient.SqlConnection(connectionString)"
   ]
  },
  {
   "cell_type": "code",
   "execution_count": 4,
   "metadata": {},
   "outputs": [],
   "source": [
    "query = \"select * from dbo.tablea\""
   ]
  },
  {
   "cell_type": "code",
   "execution_count": 15,
   "metadata": {},
   "outputs": [
    {
     "name": "stdout",
     "output_type": "stream",
     "text": [
      "True\n",
      "1\n",
      "1\n",
      "2\n",
      "3\n",
      "4\n",
      "5\n"
     ]
    }
   ],
   "source": [
    "cmd = connection.CreateCommand()\n",
    "cmd.CommandText = query\n",
    "\n",
    "try:\n",
    "    connection.Open()\n",
    "    reader = cmd.ExecuteReader()\n",
    "    print(reader.HasRows)\n",
    "    print(reader.FieldCount)\n",
    "    while reader.Read():\n",
    "        print(reader['id'])\n",
    "        # print(reader[0])\n",
    "    connection.Close()\n",
    "except Exception as e:\n",
    "    print(e)\n",
    "    connection.Close()"
   ]
  },
  {
   "cell_type": "code",
   "execution_count": 49,
   "metadata": {},
   "outputs": [
    {
     "name": "stdout",
     "output_type": "stream",
     "text": [
      "True\n",
      "1\n",
      "1\n",
      "2\n",
      "3\n",
      "4\n"
     ]
    }
   ],
   "source": [
    "cmd = SqlClient.SqlCommand()\n",
    "cmd.Connection = connection\n",
    "cmd.CommandText = query\n",
    "\n",
    "try:\n",
    "    connection.Open()\n",
    "    reader = cmd.ExecuteReader()\n",
    "    print(reader.HasRows)\n",
    "    print(reader.FieldCount)\n",
    "    while reader.Read():\n",
    "        print(reader['id'])\n",
    "        # print(reader[0])\n",
    "    connection.Close()\n",
    "except Exception as e:\n",
    "    print(e)\n",
    "    connection.Close()"
   ]
  },
  {
   "cell_type": "code",
   "execution_count": 62,
   "metadata": {},
   "outputs": [
    {
     "name": "stdout",
     "output_type": "stream",
     "text": [
      "True\n",
      "1\n",
      "1\n",
      "2\n",
      "3\n",
      "4\n",
      "5\n"
     ]
    }
   ],
   "source": [
    "cmd = SqlClient.SqlCommand(query, connection)\n",
    "\n",
    "try:\n",
    "    connection.Open()\n",
    "    reader = cmd.ExecuteReader()\n",
    "    print(reader.HasRows)\n",
    "    print(reader.FieldCount)\n",
    "    while reader.Read():\n",
    "        print(reader['id'])\n",
    "        # print(reader[0])\n",
    "    connection.Close()\n",
    "except Exception as e:\n",
    "    print(e)\n",
    "    connection.Close()"
   ]
  },
  {
   "cell_type": "code",
   "execution_count": 61,
   "metadata": {},
   "outputs": [],
   "source": [
    "nonQuery = \"insert into dbo.tablea (id) values (5)\"\n",
    "# nonQuery = \"delete from dbo.tablea where id = 5\"\n",
    "cmd = SqlClient.SqlCommand(nonQuery, connection)\n",
    "\n",
    "try:\n",
    "    connection.Open()\n",
    "    cmd.ExecuteNonQuery()\n",
    "    connection.Close()\n",
    "except Exception as e:\n",
    "    print(e)\n",
    "    connection.Close()"
   ]
  }
 ],
 "metadata": {
  "kernelspec": {
   "display_name": "Python 3.7.0 64-bit",
   "language": "python",
   "name": "python3"
  },
  "language_info": {
   "codemirror_mode": {
    "name": "ipython",
    "version": 3
   },
   "file_extension": ".py",
   "mimetype": "text/x-python",
   "name": "python",
   "nbconvert_exporter": "python",
   "pygments_lexer": "ipython3",
   "version": "3.7.0"
  },
  "orig_nbformat": 4,
  "vscode": {
   "interpreter": {
    "hash": "5109d816b82be14675a6b11f8e0f0d2e80f029176ed3710d54e125caa8520dfd"
   }
  }
 },
 "nbformat": 4,
 "nbformat_minor": 2
}
