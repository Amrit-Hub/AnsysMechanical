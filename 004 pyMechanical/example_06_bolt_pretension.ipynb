{
  "cells": [
    {
      "cell_type": "markdown",
      "metadata": {},
      "source": [
        "\n",
        "# Bolt Pretension\n",
        "\n",
        "Using supplied files, this example shows how to insert a static structural\n",
        "analysis into a new Mechanical session and execute a sequence of Python\n",
        "scripting commands that define and solve the bolt-pretension analysis.\n",
        "Deformation, equivalent sresses, contact and bolt results are then post-processed.\n"
      ]
    },
    {
      "cell_type": "markdown",
      "metadata": {},
      "source": [
        "## Import necessary libraries\n",
        "\n"
      ]
    },
    {
      "cell_type": "code",
      "execution_count": 2,
      "metadata": {
        "collapsed": false
      },
      "outputs": [],
      "source": [
        "import os\n",
        "\n",
        "from ansys.mechanical.core import launch_mechanical\n",
        "from ansys.mechanical.core.examples import download_file\n",
        "# from matplotlib import image as mpimg\n",
        "# from matplotlib import pyplot as plt"
      ]
    },
    {
      "cell_type": "markdown",
      "metadata": {},
      "source": [
        "## Launch Mechanical\n",
        "Launch a new Mechanical session in batch, setting ``cleanup_on_exit`` to\n",
        "``False``. To close this Mechanical session when finished, this example\n",
        "must call  the ``mechanical.exit()`` method.\n",
        "\n"
      ]
    },
    {
      "cell_type": "code",
      "execution_count": 3,
      "metadata": {
        "collapsed": false
      },
      "outputs": [
        {
          "name": "stdout",
          "output_type": "stream",
          "text": [
            "Ansys Mechanical []\n",
            "Product Version:232\n",
            "Software build date: 05/30/2023 15:25:53\n",
            "\n"
          ]
        }
      ],
      "source": [
        "mechanical = launch_mechanical(batch=False, cleanup_on_exit=False)\n",
        "print(mechanical)"
      ]
    },
    {
      "cell_type": "markdown",
      "metadata": {},
      "source": [
        "## Initialize variable for workflow\n",
        "Set the ``part_file_path`` variable on the server for later use.\n",
        "Make this variable compatible for Windows, Linux, and Docker containers.\n",
        "\n"
      ]
    },
    {
      "cell_type": "code",
      "execution_count": null,
      "metadata": {
        "collapsed": false
      },
      "outputs": [],
      "source": [
        "project_directory = mechanical.project_directory\n",
        "print(f\"project directory = {project_directory}\")"
      ]
    },
    {
      "cell_type": "markdown",
      "metadata": {},
      "source": [
        "## Download required geometry file\n",
        "Download the required file. Print the file path for the geometry file.\n",
        "\n"
      ]
    },
    {
      "cell_type": "code",
      "execution_count": null,
      "metadata": {
        "collapsed": false
      },
      "outputs": [],
      "source": [
        "geometry_path = download_file(\n",
        "    \"example_06_bolt_pret_geom.agdb\", \"pymechanical\", \"00_basic\"\n",
        ")\n",
        "print(f\"Downloaded the geometry file to: {geometry_path}\")\n",
        "\n",
        "# Upload the file to the project directory.\n",
        "mechanical.upload(file_name=geometry_path, file_location_destination=project_directory)\n",
        "\n",
        "# Build the path relative to project directory.\n",
        "base_name = os.path.basename(geometry_path)\n",
        "combined_path = os.path.join(project_directory, base_name)\n",
        "part_file_path = combined_path.replace(\"\\\\\", \"\\\\\\\\\")\n",
        "mechanical.run_python_script(f\"part_file_path='{part_file_path}'\")"
      ]
    },
    {
      "cell_type": "markdown",
      "metadata": {},
      "source": [
        "## Download required material file\n",
        "Download the required file. Print the file path for the material file.\n",
        "\n"
      ]
    },
    {
      "cell_type": "code",
      "execution_count": null,
      "metadata": {
        "collapsed": false
      },
      "outputs": [],
      "source": [
        "mat_cop_path = download_file(\"example_06_Mat_Copper.xml\", \"pymechanical\", \"00_basic\")\n",
        "print(f\"Downloaded the material file to: {mat_cop_path}\")\n",
        "\n",
        "# Upload the file to the project directory.\n",
        "mechanical.upload(file_name=mat_cop_path, file_location_destination=project_directory)\n",
        "\n",
        "# Build the path relative to project directory.\n",
        "base_name = os.path.basename(mat_cop_path)\n",
        "combined_path = os.path.join(project_directory, base_name)\n",
        "mat_Copper_file_path = combined_path.replace(\"\\\\\", \"\\\\\\\\\")\n",
        "mechanical.run_python_script(f\"mat_Copper_file_path='{mat_Copper_file_path}'\")"
      ]
    },
    {
      "cell_type": "markdown",
      "metadata": {},
      "source": [
        "## Download required material files\n",
        "Download the required file. Print the file path for the material file.\n",
        "\n"
      ]
    },
    {
      "cell_type": "code",
      "execution_count": null,
      "metadata": {
        "collapsed": false
      },
      "outputs": [],
      "source": [
        "mat_st_path = download_file(\"example_06_Mat_Steel.xml\", \"pymechanical\", \"00_basic\")\n",
        "print(f\"Downloaded the material file to: {mat_st_path}\")\n",
        "\n",
        "# Upload the file to the project directory.\n",
        "mechanical.upload(file_name=mat_st_path, file_location_destination=project_directory)\n",
        "\n",
        "# Build the path relative to project directory.\n",
        "base_name = os.path.basename(mat_st_path)\n",
        "combined_path = os.path.join(project_directory, base_name)\n",
        "mat_Steel_file_path = combined_path.replace(\"\\\\\", \"\\\\\\\\\")\n",
        "mechanical.run_python_script(f\"mat_Steel_file_path='{mat_Steel_file_path}'\")\n",
        "\n",
        "# ----------------------- Verify the path-------------------\n",
        "result = mechanical.run_python_script(\"part_file_path\")\n",
        "print(f\"part_file_path on server: {result}\")"
      ]
    },
    {
      "cell_type": "markdown",
      "metadata": {},
      "source": [
        "## Execute the script\n",
        "Run the Mechanical script to attach the geometry and set up and solve the\n",
        "analysis.\n",
        "\n"
      ]
    },
    {
      "cell_type": "code",
      "execution_count": null,
      "metadata": {
        "collapsed": false
      },
      "outputs": [],
      "source": [
        "output = mechanical.run_python_script(\n",
        "    \"\"\"\n",
        "import json\n",
        "import os\n",
        "\n",
        "# Section 1 Reads Geometry and Material info\n",
        "geometry_import_group_11 = Model.GeometryImportGroup\n",
        "geometry_import_12 = geometry_import_group_11.AddGeometryImport()\n",
        "geometry_import_12_format = Ansys.Mechanical.DataModel.Enums.GeometryImportPreference.\\\n",
        "    Format.Automatic\n",
        "geometry_import_12_preferences = Ansys.ACT.Mechanical.Utilities.GeometryImportPreferences()\n",
        "geometry_import_12_preferences.ProcessNamedSelections = True\n",
        "geometry_import_12_preferences.ProcessCoordinateSystems = True\n",
        "geometry_import_12.Import(part_file_path,geometry_import_12_format,geometry_import_12_preferences)\n",
        "\n",
        "MAT = ExtAPI.DataModel.Project.Model.Materials\n",
        "MAT.Import(mat_Copper_file_path)\n",
        "MAT.Import(mat_Steel_file_path)\n",
        "\n",
        "Model.AddStaticStructuralAnalysis()\n",
        "STAT_STRUC = Model.Analyses[0]\n",
        "STAT_STRUC_SOLN = STAT_STRUC.Solution\n",
        "STAT_STRUC_ANA_SETTING = STAT_STRUC.Children[0]\n",
        "\n",
        "# Section 2 Set up the Unit System.\n",
        "ExtAPI.Application.ActiveUnitSystem = MechanicalUnitSystem.StandardNMM\n",
        "\n",
        "# Section 3 Store all main tree nodes as variables.\n",
        "MODEL = ExtAPI.DataModel.Project.Model\n",
        "GEOM = ExtAPI.DataModel.Project.Model.Geometry\n",
        "CONN_GRP = ExtAPI.DataModel.Project.Model.Connections\n",
        "CS_GRP = ExtAPI.DataModel.Project.Model.CoordinateSystems\n",
        "MSH = ExtAPI.DataModel.Project.Model.Mesh\n",
        "NS_GRP = ExtAPI.DataModel.Project.Model.NamedSelections\n",
        "\n",
        "# Section 4 Store Name Selection.\n",
        "block3_block2_cont_NS = [x for x in ExtAPI.DataModel.Tree.AllObjects\n",
        "if x.Name == 'block3_block2_cont'][0]\n",
        "block3_block2_targ_NS = [x for x in ExtAPI.DataModel.Tree.AllObjects\n",
        "if x.Name == 'block3_block2_targ'][0]\n",
        "shank_block3_targ_NS = [x for x in ExtAPI.DataModel.Tree.AllObjects\n",
        "if x.Name == 'shank_block3_targ'][0]\n",
        "shank_block3_cont_NS = [x for x in ExtAPI.DataModel.Tree.AllObjects\n",
        "if x.Name == 'shank_block3_cont'][0]\n",
        "block1_washer_cont_NS = [x for x in ExtAPI.DataModel.Tree.AllObjects\n",
        "if x.Name == 'block1_washer_cont'][0]\n",
        "block1_washer_targ_NS = [x for x in ExtAPI.DataModel.Tree.AllObjects\n",
        "if x.Name == 'block1_washer_targ'][0]\n",
        "washer_bolt_cont_NS = [x for x in ExtAPI.DataModel.Tree.AllObjects\n",
        "if x.Name == 'washer_bolt_cont'][0]\n",
        "washer_bolt_targ_NS = [x for x in ExtAPI.DataModel.Tree.AllObjects\n",
        "if x.Name == 'washer_bolt_targ'][0]\n",
        "shank_bolt_targ_NS = [x for x in ExtAPI.DataModel.Tree.AllObjects\n",
        "if x.Name == 'shank_bolt_targ'][0]\n",
        "shank_bolt_cont_NS = [x for x in ExtAPI.DataModel.Tree.AllObjects\n",
        "if x.Name == 'shank_bolt_cont'][0]\n",
        "block2_block1_cont_NS = [x for x in ExtAPI.DataModel.Tree.AllObjects\n",
        "if x.Name == 'block2_block1_cont'][0]\n",
        "block2_block1_targ_NS = [x for x in ExtAPI.DataModel.Tree.AllObjects\n",
        "if x.Name == 'block2_block1_targ'][0]\n",
        "all_bodies = [x for x in ExtAPI.DataModel.Tree.AllObjects\n",
        "if x.Name == 'all_bodies'][0]\n",
        "bodies_5 = [x for x in ExtAPI.DataModel.Tree.AllObjects\n",
        "if x.Name == 'bodies_5'][0]\n",
        "shank = [x for x in ExtAPI.DataModel.Tree.AllObjects\n",
        "if x.Name == 'shank'][0]\n",
        "shank_face = [x for x in ExtAPI.DataModel.Tree.AllObjects\n",
        "if x.Name == 'shank_face'][0]\n",
        "shank_face2 = [x for x in ExtAPI.DataModel.Tree.AllObjects\n",
        "if x.Name == 'shank_face2'][0]\n",
        "bottom_surface = [x for x in ExtAPI.DataModel.Tree.AllObjects\n",
        "if x.Name == 'bottom_surface'][0]\n",
        "block2_surface = [x for x in ExtAPI.DataModel.Tree.AllObjects\n",
        "if x.Name == 'block2_surface'][0]\n",
        "shank_surface = [x for x in ExtAPI.DataModel.Tree.AllObjects\n",
        "if x.Name == 'shank_surface'][0]\n",
        "\n",
        "# Section 5 Assign material to bodies.\n",
        "SURFACE1=GEOM.Children[0].Children[0]\n",
        "SURFACE1.Material=\"Steel\"\n",
        "\n",
        "SURFACE2=GEOM.Children[1].Children[0]\n",
        "SURFACE2.Material=\"Copper\"\n",
        "\n",
        "SURFACE3=GEOM.Children[2].Children[0]\n",
        "SURFACE3.Material=\"Copper\"\n",
        "\n",
        "SURFACE4=GEOM.Children[3].Children[0]\n",
        "SURFACE4.Material=\"Steel\"\n",
        "\n",
        "SURFACE5=GEOM.Children[4].Children[0]\n",
        "SURFACE5.Material=\"Steel\"\n",
        "\n",
        "SURFACE6=GEOM.Children[5].Children[0]\n",
        "SURFACE6.Material=\"Steel\"\n",
        "\n",
        "#Section 6 Define Coordinate System\n",
        "coordinate_systems_17 = Model.CoordinateSystems\n",
        "coordinate_system_93 = coordinate_systems_17.AddCoordinateSystem()\n",
        "coordinate_system_93.OriginDefineBy = CoordinateSystemAlignmentType.Fixed\n",
        "coordinate_system_93.OriginX = Quantity(-195, \"mm\")\n",
        "coordinate_system_93.OriginY = Quantity(100, \"mm\")\n",
        "coordinate_system_93.OriginZ = Quantity(50, \"mm\")\n",
        "coordinate_system_93.PrimaryAxis = CoordinateSystemAxisType.PositiveZAxis\n",
        "\n",
        "# Section 7 Change Contact settings and add command snippet to use Archard Wear Model.\n",
        "connections =  ExtAPI.DataModel.Project.Model.Connections\n",
        "\n",
        "# Delete existing contacts\n",
        "for connection in connections.Children:\n",
        "    if connection.DataModelObjectCategory==DataModelObjectCategory.ConnectionGroup:\n",
        "        connection.Delete()\n",
        "\n",
        "CONT_REG1 = CONN_GRP.AddContactRegion()\n",
        "CONT_REG1.SourceLocation = NS_GRP.Children[0]\n",
        "CONT_REG1.TargetLocation = NS_GRP.Children[1]\n",
        "CONT_REG1.ContactType=ContactType.Frictional\n",
        "CONT_REG1.FrictionCoefficient = 0.2\n",
        "CONT_REG1.SmallSliding = ContactSmallSlidingType.Off\n",
        "CONT_REG1.UpdateStiffness = UpdateContactStiffness.Never\n",
        "CMD1=CONT_REG1.AddCommandSnippet()\n",
        "# Add missing contact keyopt and Archard Wear Model in workbench using command snippet.\n",
        "AWM = '''keyopt,cid,9,5\n",
        "rmodif,cid,10,0.00\n",
        "rmodif,cid,23,0.001'''\n",
        "CMD1.AppendText(AWM)\n",
        "\n",
        "CONTS = CONN_GRP.Children[0]\n",
        "CONT_REG2 = CONTS.AddContactRegion()\n",
        "CONT_REG2.SourceLocation = NS_GRP.Children[3]\n",
        "CONT_REG2.TargetLocation = NS_GRP.Children[2]\n",
        "CONT_REG2.ContactType=ContactType.Bonded\n",
        "CONT_REG2.ContactFormulation = ContactFormulation.MPC\n",
        "\n",
        "CONT_REG3 = CONTS.AddContactRegion()\n",
        "CONT_REG3.SourceLocation = NS_GRP.Children[4]\n",
        "CONT_REG3.TargetLocation = NS_GRP.Children[5]\n",
        "CONT_REG3.ContactType=ContactType.Frictional\n",
        "CONT_REG3.FrictionCoefficient = 0.2\n",
        "CONT_REG3.SmallSliding = ContactSmallSlidingType.Off\n",
        "CONT_REG3.UpdateStiffness = UpdateContactStiffness.Never\n",
        "CMD3=CONT_REG3.AddCommandSnippet()\n",
        "# Add missing contact keyopt and Archard Wear Model in workbench using command snippet.\n",
        "AWM3 = '''keyopt,cid,9,5\n",
        "rmodif,cid,10,0.00\n",
        "rmodif,cid,23,0.001'''\n",
        "CMD3.AppendText(AWM3)\n",
        "\n",
        "CONT_REG4 = CONTS.AddContactRegion()\n",
        "CONT_REG4.SourceLocation = NS_GRP.Children[6]\n",
        "CONT_REG4.TargetLocation = NS_GRP.Children[7]\n",
        "CONT_REG4.ContactType=ContactType.Bonded\n",
        "CONT_REG4.ContactFormulation = ContactFormulation.MPC\n",
        "\n",
        "CONT_REG5 = CONTS.AddContactRegion()\n",
        "CONT_REG5.SourceLocation = NS_GRP.Children[9]\n",
        "CONT_REG5.TargetLocation = NS_GRP.Children[8]\n",
        "CONT_REG5.ContactType=ContactType.Bonded\n",
        "CONT_REG5.ContactFormulation = ContactFormulation.MPC\n",
        "\n",
        "CONT_REG6 = CONTS.AddContactRegion()\n",
        "CONT_REG6.SourceLocation = NS_GRP.Children[10]\n",
        "CONT_REG6.TargetLocation = NS_GRP.Children[11]\n",
        "CONT_REG6.ContactType=ContactType.Frictional\n",
        "CONT_REG6.FrictionCoefficient = 0.2\n",
        "CONT_REG6.SmallSliding = ContactSmallSlidingType.Off\n",
        "CONT_REG6.UpdateStiffness = UpdateContactStiffness.Never\n",
        "CMD6=CONT_REG6.AddCommandSnippet()\n",
        "# Add missing contact keyopt and Archard Wear Model in workbench using command snippet.\n",
        "AWM6 = '''keyopt,cid,9,5\n",
        "rmodif,cid,10,0.00\n",
        "rmodif,cid,23,0.001'''\n",
        "CMD6.AppendText(AWM6)\n",
        "\n",
        "# Add Contact Tool\n",
        "#CONT_TOOL = CONN_GRP.AddContactTool()\n",
        "#CONT_TOOL.AddPenetration()\n",
        "#CONT_TOOL.AddStatus()\n",
        "#CONT_TOOL.GenerateInitialContactResults()\n",
        "\n",
        "# Section 8 Generate Mesh.\n",
        "\n",
        "Hex_Method = MSH.AddAutomaticMethod()\n",
        "Hex_Method.Location = all_bodies\n",
        "Hex_Method.Method = MethodType.HexDominant\n",
        "\n",
        "BODY_SIZING1=MSH.AddSizing()\n",
        "BODY_SIZING1.Location=bodies_5\n",
        "BODY_SIZING1.ElementSize = Quantity(15, \"mm\")\n",
        "\n",
        "BODY_SIZING2=MSH.AddSizing()\n",
        "BODY_SIZING2.Location=shank\n",
        "BODY_SIZING2.ElementSize = Quantity(7, \"mm\")\n",
        "\n",
        "Face_Meshing = MSH.AddFaceMeshing()\n",
        "Face_Meshing.Location = shank_face\n",
        "Face_Meshing.MappedMesh = False\n",
        "\n",
        "Sweep_Method = MSH.AddAutomaticMethod()\n",
        "Sweep_Method.Location = shank\n",
        "Sweep_Method.Method = MethodType.Sweep\n",
        "Sweep_Method.SourceTargetSelection = 2\n",
        "Sweep_Method.SourceLocation = shank_face\n",
        "Sweep_Method.TargetLocation = shank_face2\n",
        "\n",
        "MSH.GenerateMesh()\n",
        "\n",
        "# Section 9 Setup Analysis Settings.\n",
        "STAT_STRUC_ANA_SETTING.NumberOfSteps = 4\n",
        "step_index_list = [1]\n",
        "with Transaction():\n",
        "    for step_index in step_index_list:\n",
        "        STAT_STRUC_ANA_SETTING.SetAutomaticTimeStepping(step_index, AutomaticTimeStepping.Off)\n",
        "STAT_STRUC_ANA_SETTING.Activate()\n",
        "step_index_list = [1]\n",
        "with Transaction():\n",
        "    for step_index in step_index_list:\n",
        "        STAT_STRUC_ANA_SETTING.SetNumberOfSubSteps(step_index, 2)\n",
        "STAT_STRUC_ANA_SETTING.Activate()\n",
        "STAT_STRUC_ANA_SETTING.SolverType = SolverType.Direct\n",
        "STAT_STRUC_ANA_SETTING.SolverPivotChecking = SolverPivotChecking.Off\n",
        "\n",
        "\n",
        "# Section 10 Insert Loading and BC\n",
        "FIX_SUP=STAT_STRUC.AddFixedSupport()\n",
        "FIX_SUP.Location=block2_surface\n",
        "\n",
        "Tabular_Force = STAT_STRUC.AddForce()\n",
        "Tabular_Force.Location = bottom_surface\n",
        "Tabular_Force.DefineBy = LoadDefineBy.Components\n",
        "Tabular_Force.XComponent.Inputs[0].DiscreteValues = [Quantity('0[s]'),Quantity('1[s]'), \\\n",
        "    Quantity('2[s]'),Quantity('3[s]'),Quantity('4[s]')]\n",
        "Tabular_Force.XComponent.Output.DiscreteValues = [Quantity('0[N]'),Quantity('0[N]'), \\\n",
        "    Quantity('5.e+005[N]'),Quantity('0[N]'),Quantity('-5.e+005[N]')]\n",
        "\n",
        "Bolt_Pretension = STAT_STRUC.AddBoltPretension()\n",
        "Bolt_Pretension.Location = shank_surface\n",
        "Bolt_Pretension.Preload.Inputs[0].DiscreteValues = [Quantity('1[s]'),Quantity('2[s]'), \\\n",
        "    Quantity('3[s]'),Quantity('4[s]')]\n",
        "Bolt_Pretension.Preload.Output.DiscreteValues = [Quantity('6.1363e+005[N]'), \\\n",
        "    Quantity('0 [N]'),Quantity('0 [N]'),Quantity('0[N]')]\n",
        "Bolt_Pretension.SetDefineBy(2,BoltLoadDefineBy.Lock)\n",
        "Bolt_Pretension.SetDefineBy(3,BoltLoadDefineBy.Lock)\n",
        "Bolt_Pretension.SetDefineBy(4,BoltLoadDefineBy.Lock)\n",
        "\n",
        "# Section 11 Insert Results.\n",
        "\n",
        "Post_Contact_Tool = STAT_STRUC_SOLN.AddContactTool()\n",
        "Post_Contact_Tool.ScopingMethod = GeometryDefineByType.Worksheet\n",
        "\n",
        "Bolt_Tool = STAT_STRUC_SOLN.AddBoltTool()\n",
        "Bolt_Working_Load = Bolt_Tool.AddWorkingLoad()\n",
        "\n",
        "Total_Deformation = STAT_STRUC_SOLN.AddTotalDeformation()\n",
        "Equivalent_stress_1 = STAT_STRUC_SOLN.AddEquivalentStress()\n",
        "Equivalent_stress_2 = STAT_STRUC_SOLN.AddEquivalentStress()\n",
        "Equivalent_stress_2.Location = shank\n",
        "Force_Reaction_1 = STAT_STRUC_SOLN.AddForceReaction()\n",
        "Force_Reaction_1.BoundaryConditionSelection = FIX_SUP\n",
        "Moment_Reaction_2 = STAT_STRUC_SOLN.AddMomentReaction()\n",
        "Moment_Reaction_2.BoundaryConditionSelection = FIX_SUP\n",
        "\n",
        "# Section 12 Set Number of Processors to 6 using DANSYS\n",
        "# Num_Cores = STAT_STRUC.SolveConfiguration.SolveProcessSettings.MaxNumberOfCores\n",
        "# STAT_STRUC.SolveConfiguration.SolveProcessSettings.MaxNumberOfCores = 6\n",
        "\n",
        "# Section 13 Solve and Validate the Results.\n",
        "STAT_STRUC_SOLN.Solve(True)\n",
        "STAT_STRUC_SS=STAT_STRUC_SOLN.Status\n",
        "\n",
        "# Set isometric view and zoom to fit\n",
        "cam = Graphics.Camera\n",
        "cam.SetSpecificViewOrientation(ViewOrientationType.Iso)\n",
        "cam.SetFit()\n",
        "\n",
        "mechdir = STAT_STRUC.Children[0].SolverFilesDirectory\n",
        "export_path = os.path.join(mechdir, \"contact_status.png\")\n",
        "Post_Contact_Tool.Children[0].Activate()\n",
        "Graphics.ExportImage(export_path, GraphicsImageExportFormat.PNG)\n",
        "\n",
        "my_results_details = {\n",
        "    \"Total_Deformation\": str(Total_Deformation.Maximum),\n",
        "    \"Equivalent_Stress1\": str(Equivalent_stress_1.Maximum),\n",
        "    \"Equivalent_Stress2\": str(Equivalent_stress_2.Maximum),\n",
        "}\n",
        "\n",
        "json.dumps(my_results_details)\n",
        "\"\"\"\n",
        ")\n",
        "print(output)"
      ]
    },
    {
      "cell_type": "markdown",
      "metadata": {},
      "source": [
        "## Initialize the variable needed for the image directory\n",
        "Set the ``image_dir`` for later use.\n",
        "Make the variable compatible for Windows, Linux, and Docker containers.\n",
        "\n"
      ]
    },
    {
      "cell_type": "code",
      "execution_count": null,
      "metadata": {
        "collapsed": false
      },
      "outputs": [],
      "source": [
        "# image_directory_modified = project_directory.replace(\"\\\\\", \"\\\\\\\\\")\n",
        "mechanical.run_python_script(f\"image_dir=ExtAPI.DataModel.AnalysisList[0].WorkingDir\")\n",
        "\n",
        "\n",
        "# Verify the path for image directory.\n",
        "result_image_dir_server = mechanical.run_python_script(f\"image_dir\")\n",
        "print(f\"Images are stored on the server at: {result_image_dir_server}\")"
      ]
    },
    {
      "cell_type": "markdown",
      "metadata": {},
      "source": [
        "## Download the image and plot\n",
        "Download one image file from the server to the current working directory and plot\n",
        "using matplotlib.\n",
        "\n"
      ]
    },
    {
      "cell_type": "code",
      "execution_count": null,
      "metadata": {
        "collapsed": false
      },
      "outputs": [],
      "source": [
        "def get_image_path(image_name):\n",
        "    return os.path.join(result_image_dir_server, image_name)\n",
        "\n",
        "\n",
        "def display_image(path):\n",
        "    print(f\"Printing {path} using matplotlib\")\n",
        "    image1 = mpimg.imread(path)\n",
        "    plt.figure(figsize=(15, 15))\n",
        "    plt.axis(\"off\")\n",
        "    plt.imshow(image1)\n",
        "    plt.show()\n",
        "\n",
        "\n",
        "image_name = \"contact_status.png\"\n",
        "image_path_server = get_image_path(image_name)\n",
        "\n",
        "if image_path_server != \"\":\n",
        "    current_working_directory = os.getcwd()\n",
        "\n",
        "    local_file_path_list = mechanical.download(\n",
        "        image_path_server, target_dir=current_working_directory\n",
        "    )\n",
        "    image_local_path = local_file_path_list[0]\n",
        "    print(f\"Local image path : {image_local_path}\")\n",
        "\n",
        "    display_image(image_local_path)"
      ]
    },
    {
      "cell_type": "markdown",
      "metadata": {},
      "source": [
        "## Download output file from solve and print contents\n",
        "Download the ``solve.out`` file from the server to the current working\n",
        "directory and print the contents. Remove the ``solve.out`` file.\n",
        "\n"
      ]
    },
    {
      "cell_type": "code",
      "execution_count": null,
      "metadata": {
        "collapsed": false
      },
      "outputs": [],
      "source": [
        "def get_solve_out_path(mechanical):\n",
        "    \"\"\"Get the solve out path and return.\"\"\"\n",
        "    solve_out_path = \"\"\n",
        "    for file_path in mechanical.list_files():\n",
        "        if file_path.find(\"solve.out\") != -1:\n",
        "            solve_out_path = file_path\n",
        "            break\n",
        "\n",
        "    return solve_out_path\n",
        "\n",
        "\n",
        "def write_file_contents_to_console(path):\n",
        "    \"\"\"Write file contents to console.\"\"\"\n",
        "    with open(path, \"rt\") as file:\n",
        "        for line in file:\n",
        "            print(line, end=\"\")\n",
        "\n",
        "\n",
        "solve_out_path = get_solve_out_path(mechanical)\n",
        "\n",
        "if solve_out_path != \"\":\n",
        "    current_working_directory = os.getcwd()\n",
        "\n",
        "    mechanical.download(solve_out_path, target_dir=current_working_directory)\n",
        "    solve_out_local_path = os.path.join(current_working_directory, \"solve.out\")\n",
        "\n",
        "    write_file_contents_to_console(solve_out_local_path)\n",
        "\n",
        "    os.remove(solve_out_local_path)"
      ]
    },
    {
      "cell_type": "markdown",
      "metadata": {},
      "source": [
        "## Close Mechanical\n",
        "Close the Mechanical instance.\n",
        "\n"
      ]
    },
    {
      "cell_type": "code",
      "execution_count": null,
      "metadata": {
        "collapsed": false
      },
      "outputs": [],
      "source": [
        "mechanical.exit()"
      ]
    }
  ],
  "metadata": {
    "kernelspec": {
      "display_name": "Python 3.10.10 ('ansys': venv)",
      "language": "python",
      "name": "python3"
    },
    "language_info": {
      "codemirror_mode": {
        "name": "ipython",
        "version": 3
      },
      "file_extension": ".py",
      "mimetype": "text/x-python",
      "name": "python",
      "nbconvert_exporter": "python",
      "pygments_lexer": "ipython3",
      "version": "3.10.10"
    },
    "vscode": {
      "interpreter": {
        "hash": "fb6c1d9362b245b9f030eaaa691a35e39c34ac15f86fdfc28fba5cdcf414f3fb"
      }
    }
  },
  "nbformat": 4,
  "nbformat_minor": 0
}
