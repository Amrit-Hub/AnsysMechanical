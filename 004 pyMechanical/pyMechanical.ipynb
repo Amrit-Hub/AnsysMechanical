{
 "cells": [
  {
   "cell_type": "markdown",
   "metadata": {},
   "source": [
    "# Python 3.10 preferred (avoid <3.8)"
   ]
  },
  {
   "cell_type": "code",
   "execution_count": null,
   "metadata": {},
   "outputs": [],
   "source": [
    "# https://github.com/ansys/pymechanical\n",
    "# pip install ansys-mechanical-core"
   ]
  },
  {
   "cell_type": "markdown",
   "metadata": {},
   "source": [
    "# Import Libraries"
   ]
  },
  {
   "cell_type": "code",
   "execution_count": null,
   "metadata": {},
   "outputs": [],
   "source": [
    "from ansys.mechanical.core import launch_mechanical, App, find_mechanical, global_variables"
   ]
  },
  {
   "cell_type": "markdown",
   "metadata": {},
   "source": [
    "# pyMechanical Remote Sessions"
   ]
  },
  {
   "cell_type": "markdown",
   "metadata": {},
   "source": [
    "- The Mechanical gRPC interface requires Mechanical 2023 R1 or later.\n",
    "- SUPPORTED_MECHANICAL_EMBEDDING_VERSIONS_WINDOWS = ``{241: \"2024R1\", 232: \"2023R2\", 231: \"2023R1\"}``\n",
    "- batch: Whether to launch Mechanical in batch mode. The default is ``True``\n",
    "- start_instance: Whether to launch and connect to a new Mechanical instance. The default is ``None``, in which case an attempt is made to connect to an existing Mechanical instance. When ``True``, a local instance of Mechanical is launched.\n",
    "- loglevel: Level of messages to print to the console. ``\"WARNING\"``, ``\"ERROR\"``, ``\"INFO\"``\n",
    "- log_mechanical: Path to the output file on the local disk to write every script command to.\n",
    "- verbose_mechanical: Whether to enable printing of all output when launching and running a Mechanical instance.\n",
    "- cleanup_on_exit: Whether to exit Mechanical when Python exits. The default is ``True``"
   ]
  },
  {
   "cell_type": "code",
   "execution_count": null,
   "metadata": {},
   "outputs": [],
   "source": [
    "mechanical = launch_mechanical(\n",
    "    exec_file = None,\n",
    "    batch= False, \n",
    "    start_instance = True, \n",
    "    loglevel= 'INFO', \n",
    "    log_mechanical='pymechanical_log.txt', \n",
    "    verbose_mechanical= True)\n",
    "print(mechanical)"
   ]
  },
  {
   "cell_type": "code",
   "execution_count": null,
   "metadata": {},
   "outputs": [],
   "source": [
    "# mechanical.exit(force=True)"
   ]
  },
  {
   "cell_type": "code",
   "execution_count": null,
   "metadata": {},
   "outputs": [],
   "source": [
    "wb_exe = find_mechanical(232)[0]\n",
    "print(wb_exe)"
   ]
  },
  {
   "cell_type": "code",
   "execution_count": null,
   "metadata": {},
   "outputs": [],
   "source": [
    "proj_directory = mechanical.run_python_script(\"ExtAPI.DataModel.Project.ProjectDirectory\")\n",
    "print(proj_directory)\n",
    "proj_directory = mechanical.project_directory\n",
    "print(proj_directory)\n",
    "# mechanical.upload(file_name=\"\", file_location_destination=project_directory)"
   ]
  },
  {
   "cell_type": "code",
   "execution_count": null,
   "metadata": {},
   "outputs": [],
   "source": [
    "mechanical.list_files()"
   ]
  },
  {
   "cell_type": "markdown",
   "metadata": {},
   "source": [
    "## Geometry Import"
   ]
  },
  {
   "cell_type": "code",
   "execution_count": null,
   "metadata": {},
   "outputs": [],
   "source": [
    "geometryPath = r\"D:\\repos\\AnsysScripting\\WIP\\pyMechanical\\geom.scdoc\"\n",
    "print(geometryPath)"
   ]
  },
  {
   "cell_type": "markdown",
   "metadata": {},
   "source": [
    "- mechanical.run_python_script returns only string and it corrsponds to last output. If list output is expected, convert into string."
   ]
  },
  {
   "cell_type": "code",
   "execution_count": null,
   "metadata": {},
   "outputs": [],
   "source": [
    "script_GeometryImport = f\"\"\"\n",
    "geomImport = Model.GeometryImportGroup.AddGeometryImport()\n",
    "# Format of Geometry file\n",
    "geomImport_format = Ansys.Mechanical.DataModel.Enums.GeometryImportPreference.Format.Automatic\n",
    "\n",
    "#Preferences for Geometry file\n",
    "geomImport_preferences = Ansys.ACT.Mechanical.Utilities.GeometryImportPreferences()\n",
    "\n",
    "# geomImport_preferences.ProcessSolids = True\n",
    "# geomImport_preferences.ProcessSurfaces = False\n",
    "# geomImport_preferences.ProcessLines = False\n",
    "\n",
    "# geomImport_preferences.ProcessNamedSelections = True\n",
    "# geomImport_preferences.NamedSelectionKey = \"NSel\"\n",
    "\n",
    "# geomImport_preferences.ProcessMaterialProperties = True\n",
    "# geomImport_preferences.MixedImportResolution = GeometryImportPreference.MixedImportResolution.Solid\n",
    "\n",
    "# geomImport_preferences.ProcessCoordinateSystems = True\n",
    "# geomImport_preferences.CoordinateSystemKey = \"CSys\"\n",
    "geomImport.Import(r'{geometryPath}', geomImport_format, geomImport_preferences)\n",
    "\"\"\""
   ]
  },
  {
   "cell_type": "code",
   "execution_count": null,
   "metadata": {},
   "outputs": [],
   "source": [
    "mechanical.run_python_script(script_GeometryImport)\n",
    "mechanical.log_message(\"INFO\", \"Geometry Import Success\")"
   ]
  },
  {
   "cell_type": "code",
   "execution_count": null,
   "metadata": {},
   "outputs": [],
   "source": [
    "mechanical.run_python_script(\"geomImport.ToString()\")"
   ]
  },
  {
   "cell_type": "markdown",
   "metadata": {},
   "source": [
    "## Create Connections"
   ]
  },
  {
   "cell_type": "code",
   "execution_count": null,
   "metadata": {},
   "outputs": [],
   "source": [
    "script_Connections = \"\"\"\n",
    "connections = Model.Connections.AddConnectionGroup()\n",
    "connections.CreateAutomaticConnections()\n",
    "\"\"\""
   ]
  },
  {
   "cell_type": "code",
   "execution_count": null,
   "metadata": {},
   "outputs": [],
   "source": [
    "mechanical.run_python_script(script_Connections)"
   ]
  },
  {
   "cell_type": "markdown",
   "metadata": {},
   "source": [
    "## Generate Mesh"
   ]
  },
  {
   "cell_type": "code",
   "execution_count": null,
   "metadata": {},
   "outputs": [],
   "source": [
    "script_Mesh = \"\"\"\n",
    "mesh = Model.Mesh\n",
    "mesh.GenerateMesh()\n",
    "\"\"\""
   ]
  },
  {
   "cell_type": "code",
   "execution_count": null,
   "metadata": {},
   "outputs": [],
   "source": [
    "mechanical.run_python_script(script_Mesh)"
   ]
  },
  {
   "cell_type": "markdown",
   "metadata": {},
   "source": [
    "## Create Named Selection"
   ]
  },
  {
   "cell_type": "code",
   "execution_count": null,
   "metadata": {},
   "outputs": [],
   "source": [
    "script_NS = \"\"\"\n",
    "selinfo = ExtAPI.SelectionManager.CreateSelectionInfo(SelectionTypeEnum.GeometryEntities)\n",
    "ns_faceForce = Model.AddNamedSelection()\n",
    "ns_faceForce.Name = \"ns_faceForce\"\n",
    "selinfo.Ids = [35]\n",
    "ns_faceForce.Location = selinfo\n",
    "ns_faceFixedSupport = Model.AddNamedSelection()\n",
    "ns_faceFixedSupport.Name = \"ns_faceFixedSupport\"\n",
    "selinfo.Ids = [11]\n",
    "ns_faceFixedSupport.Location = selinfo\n",
    "\"\"\""
   ]
  },
  {
   "cell_type": "code",
   "execution_count": null,
   "metadata": {},
   "outputs": [],
   "source": [
    "mechanical.run_python_script(script_NS)"
   ]
  },
  {
   "cell_type": "markdown",
   "metadata": {},
   "source": [
    "## Add Static Analysis"
   ]
  },
  {
   "cell_type": "code",
   "execution_count": null,
   "metadata": {},
   "outputs": [],
   "source": [
    "script_Analysis = \"\"\"\n",
    "analysis = Model.AddStaticStructuralAnalysis()\n",
    "fixedsupport = analysis.AddFixedSupport()\n",
    "fixedsupport.Location = ns_faceFixedSupport\n",
    "force = analysis.AddForce()\n",
    "force.Location = ns_faceForce\n",
    "force.Magnitude.Inputs[0].DiscreteValues = [Quantity('0 [sec]'),Quantity('1 [sec]')]\n",
    "force.Magnitude.Output.DiscreteValues = [Quantity('0 [N]'),Quantity('100 [N]')]\n",
    "\"\"\""
   ]
  },
  {
   "cell_type": "code",
   "execution_count": null,
   "metadata": {},
   "outputs": [],
   "source": [
    "mechanical.run_python_script(script_Analysis)"
   ]
  },
  {
   "cell_type": "markdown",
   "metadata": {},
   "source": [
    "## Solve"
   ]
  },
  {
   "cell_type": "code",
   "execution_count": null,
   "metadata": {},
   "outputs": [],
   "source": [
    "mechanical.run_python_script(\"analysis.Solve()\")"
   ]
  },
  {
   "cell_type": "markdown",
   "metadata": {},
   "source": [
    "## Solution & Result"
   ]
  },
  {
   "cell_type": "code",
   "execution_count": null,
   "metadata": {},
   "outputs": [],
   "source": [
    "script_Solution = \"\"\"\n",
    "solution = analysis.Solution\n",
    "totalDeformation = solution.AddTotalDeformation()\n",
    "totalDeformation.Location = ns_faceForce\n",
    "solution.EvaluateAllResults()\n",
    "\"\"\""
   ]
  },
  {
   "cell_type": "code",
   "execution_count": null,
   "metadata": {},
   "outputs": [],
   "source": [
    "mechanical.run_python_script(script_Solution)"
   ]
  },
  {
   "cell_type": "markdown",
   "metadata": {},
   "source": [
    "### Save"
   ]
  },
  {
   "cell_type": "code",
   "execution_count": null,
   "metadata": {},
   "outputs": [],
   "source": [
    "script_Save = \"\"\"ExtAPI.DataModel.Project.Save(r'D:\\\\repos\\\\AnsysScripting\\\\WIP\\\\pyMechanical\\\\pymech.mechdb')\n",
    "\"\"\""
   ]
  },
  {
   "cell_type": "code",
   "execution_count": null,
   "metadata": {},
   "outputs": [],
   "source": [
    "mechanical.run_python_script(script_Save)"
   ]
  },
  {
   "cell_type": "markdown",
   "metadata": {},
   "source": [
    "### Exit"
   ]
  },
  {
   "cell_type": "code",
   "execution_count": null,
   "metadata": {},
   "outputs": [],
   "source": [
    "mechanical.exit(force=True)"
   ]
  },
  {
   "cell_type": "code",
   "execution_count": null,
   "metadata": {},
   "outputs": [],
   "source": [
    "mechanical.run_python_script('ExtAPI.DataModel.Project.Open(r\"D:\\\\repos\\\\AnsysScripting\\\\WIP\\\\pyMechanical\\\\pymech.mechdb\")')"
   ]
  },
  {
   "cell_type": "markdown",
   "metadata": {},
   "source": [
    "# PyMechanical Embedded Session"
   ]
  },
  {
   "cell_type": "code",
   "execution_count": null,
   "metadata": {},
   "outputs": [],
   "source": [
    "app = App(version=232)\n",
    "print(app)\n",
    "# Add global API to Python\n",
    "globals().update(global_variables(app))"
   ]
  },
  {
   "cell_type": "code",
   "execution_count": null,
   "metadata": {},
   "outputs": [],
   "source": [
    "app.open(r\"D:\\repos\\AnsysScripting\\WIP\\pyMechanical\\pymech.mechdb\")"
   ]
  },
  {
   "cell_type": "code",
   "execution_count": null,
   "metadata": {},
   "outputs": [],
   "source": [
    "ExtAPI    # Application.ExtAPI\n",
    "DataModel    #Application.DataModel\n",
    "Model    #Application.DataModel.Project.Model\n",
    "Tree    #Application.DataModel.Tree \n",
    "Graphics    #Application.ExtAPI.Graphics"
   ]
  },
  {
   "cell_type": "code",
   "execution_count": null,
   "metadata": {},
   "outputs": [],
   "source": [
    "ExtAPI.DataModel.Project.Model"
   ]
  },
  {
   "cell_type": "code",
   "execution_count": null,
   "metadata": {},
   "outputs": [],
   "source": [
    "Model"
   ]
  },
  {
   "cell_type": "code",
   "execution_count": null,
   "metadata": {},
   "outputs": [],
   "source": [
    "app.save(r\"D:\\repos\\AnsysScripting\\WIP\\pyMechanical\\pymech.mechdb\")"
   ]
  },
  {
   "cell_type": "code",
   "execution_count": null,
   "metadata": {},
   "outputs": [],
   "source": [
    "app.exit()"
   ]
  }
 ],
 "metadata": {
  "kernelspec": {
   "display_name": "Python 3.10.10 ('ansys': venv)",
   "language": "python",
   "name": "python3"
  },
  "language_info": {
   "codemirror_mode": {
    "name": "ipython",
    "version": 3
   },
   "file_extension": ".py",
   "mimetype": "text/x-python",
   "name": "python",
   "nbconvert_exporter": "python",
   "pygments_lexer": "ipython3",
   "version": "3.10.10"
  },
  "orig_nbformat": 4,
  "vscode": {
   "interpreter": {
    "hash": "7c08707c7670f096638e12bafe98c81be9add2c026ad214c05275abfab185fa4"
   }
  }
 },
 "nbformat": 4,
 "nbformat_minor": 2
}
