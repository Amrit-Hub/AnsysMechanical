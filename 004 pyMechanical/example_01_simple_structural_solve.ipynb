{
  "cells": [
    {
      "cell_type": "markdown",
      "metadata": {},
      "source": [
        "Static structural analysis {#ref_example_01_simple_structural_solve}\n",
        "==========================\n",
        "\n",
        "Using supplied files, this example shows how to insert a static\n",
        "structural analysis into a new Mechanical session and execute a sequence\n",
        "of Python scripting commands that define and solve the analysis.\n",
        "Deformation results are then reported.\n"
      ]
    },
    {
      "cell_type": "markdown",
      "metadata": {},
      "source": [
        "Download required files\n",
        "=======================\n",
        "\n",
        "Download the required files. Print the file path for the geometry file.\n"
      ]
    },
    {
      "cell_type": "code",
      "execution_count": null,
      "metadata": {
        "collapsed": false
      },
      "outputs": [],
      "source": [
        "import os\n",
        "\n",
        "from ansys.mechanical.core import launch_mechanical\n",
        "from ansys.mechanical.core.examples import download_file\n",
        "\n",
        "geometry_path = download_file(\"example_01_geometry.agdb\", \"pymechanical\", \"00_basic\")\n",
        "print(f\"Downloaded the geometry file to: {geometry_path}\")"
      ]
    },
    {
      "cell_type": "markdown",
      "metadata": {},
      "source": [
        "Launch Mechanical\n",
        "=================\n",
        "\n",
        "Launch a new Mechanical session in batch, setting `cleanup_on_exit` to\n",
        "`False`. To close this Mechanical session when finished, this example\n",
        "must call the `mechanical.exit()` method.\n"
      ]
    },
    {
      "cell_type": "code",
      "execution_count": null,
      "metadata": {
        "collapsed": false
      },
      "outputs": [],
      "source": [
        "mechanical = launch_mechanical(batch=True, cleanup_on_exit=False)\n",
        "print(mechanical)"
      ]
    },
    {
      "cell_type": "markdown",
      "metadata": {},
      "source": [
        "Initialize variable for workflow\n",
        "================================\n",
        "\n",
        "Set the `part_file_path` variable on the server for later use. Make this\n",
        "variable compatible for Windows, Linux, and Docker containers.\n"
      ]
    },
    {
      "cell_type": "code",
      "execution_count": null,
      "metadata": {
        "collapsed": false
      },
      "outputs": [],
      "source": [
        "project_directory = mechanical.project_directory\n",
        "print(f\"project directory = {project_directory}\")\n",
        "\n",
        "# Upload the file to the project directory.\n",
        "mechanical.upload(file_name=geometry_path, file_location_destination=project_directory)\n",
        "\n",
        "# Build the path relative to project directory.\n",
        "base_name = os.path.basename(geometry_path)\n",
        "combined_path = os.path.join(project_directory, base_name)\n",
        "part_file_path = combined_path.replace(\"\\\\\", \"\\\\\\\\\")\n",
        "mechanical.run_python_script(f\"part_file_path='{part_file_path}'\")\n",
        "\n",
        "# Verify the path\n",
        "result = mechanical.run_python_script(\"part_file_path\")\n",
        "print(f\"part_file_path on server: {result}\")"
      ]
    },
    {
      "cell_type": "markdown",
      "metadata": {},
      "source": [
        "Execute the script\n",
        "==================\n",
        "\n",
        "Run the Mechanical script to attach the geometry and set up and solve\n",
        "the analysis.\n"
      ]
    },
    {
      "cell_type": "code",
      "execution_count": null,
      "metadata": {
        "collapsed": false
      },
      "outputs": [],
      "source": [
        "output = mechanical.run_python_script(\n",
        "    \"\"\"\n",
        "import json\n",
        "\n",
        "geometry_import_group_11 = Model.GeometryImportGroup\n",
        "geometry_import_19 = geometry_import_group_11.AddGeometryImport()\n",
        "\n",
        "geometry_import_19_format = Ansys.Mechanical.DataModel.Enums.GeometryImportPreference.\\\n",
        "    Format.Automatic\n",
        "geometry_import_19_preferences = Ansys.ACT.Mechanical.Utilities.GeometryImportPreferences()\n",
        "geometry_import_19_preferences.ProcessNamedSelections = True\n",
        "geometry_import_19_preferences.ProcessCoordinateSystems = True\n",
        "\n",
        "geometry_import_19.Import(part_file_path, geometry_import_19_format, geometry_import_19_preferences)\n",
        "\n",
        "Model.AddStaticStructuralAnalysis()\n",
        "STAT_STRUC = Model.Analyses[0]\n",
        "CS_GRP = Model.CoordinateSystems\n",
        "ANALYSIS_SETTINGS = STAT_STRUC.Children[0]\n",
        "SOLN= STAT_STRUC.Solution\n",
        "\n",
        "# Section 2 Set up the Unit System.\n",
        "\n",
        "ExtAPI.Application.ActiveUnitSystem = MechanicalUnitSystem.StandardMKS\n",
        "ExtAPI.Application.ActiveAngleUnit = AngleUnitType.Radian\n",
        "\n",
        "# Section 3 Named Selection and Coordinate System.\n",
        "\n",
        "NS1 = Model.NamedSelections.Children[0]\n",
        "NS2 = Model.NamedSelections.Children[1]\n",
        "NS3 = Model.NamedSelections.Children[2]\n",
        "NS4 = Model.NamedSelections.Children[3]\n",
        "GCS = CS_GRP.Children[0]\n",
        "LCS1 = CS_GRP.Children[1]\n",
        "\n",
        "# Section 4 Define remote point.\n",
        "\n",
        "RMPT_GRP = Model.RemotePoints\n",
        "RMPT_1 = RMPT_GRP.AddRemotePoint()\n",
        "RMPT_1.Location = NS1\n",
        "RMPT_1.XCoordinate=Quantity(\"7 [m]\")\n",
        "RMPT_1.YCoordinate=Quantity(\"0 [m]\")\n",
        "RMPT_1.ZCoordinate=Quantity(\"0 [m]\")\n",
        "\n",
        "#  Section 5 Define Mesh Settings.\n",
        "\n",
        "MSH = Model.Mesh\n",
        "MSH.ElementSize =Quantity(\"0.5 [m]\")\n",
        "MSH.GenerateMesh()\n",
        "\n",
        "#  Section 6 Define boundary conditions.\n",
        "\n",
        "# Insert FIXED Support\n",
        "FIX_SUP = STAT_STRUC.AddFixedSupport()\n",
        "FIX_SUP.Location = NS2\n",
        "\n",
        "# Insert Frictionless Support\n",
        "FRIC_SUP = STAT_STRUC.AddFrictionlessSupport()\n",
        "FRIC_SUP.Location = NS3\n",
        "\n",
        "#  Section 7 Define remote force.\n",
        "\n",
        "REM_FRC1 = STAT_STRUC.AddRemoteForce()\n",
        "REM_FRC1.Location = RMPT_1\n",
        "REM_FRC1.DefineBy =LoadDefineBy.Components\n",
        "REM_FRC1.XComponent.Output.DiscreteValues = [Quantity(\"1e10 [N]\")]\n",
        "\n",
        "#  Section 8 Define thermal condition.\n",
        "\n",
        "THERM_COND = STAT_STRUC.AddThermalCondition()\n",
        "THERM_COND.Location = NS4\n",
        "THERM_COND.Magnitude.Output.DefinitionType=VariableDefinitionType.Formula\n",
        "THERM_COND.Magnitude.Output.Formula=\"50*(20+z)\"\n",
        "THERM_COND.XYZFunctionCoordinateSystem=LCS1\n",
        "THERM_COND.RangeMinimum=Quantity(\"-20 [m]\")\n",
        "THERM_COND.RangeMaximum=Quantity(\"1 [m]\")\n",
        "\n",
        "#  Section 9 Insert directional deformation.\n",
        "\n",
        "DIR_DEF = STAT_STRUC.Solution.AddDirectionalDeformation()\n",
        "DIR_DEF.Location = NS1\n",
        "DIR_DEF.NormalOrientation =NormalOrientationType.XAxis\n",
        "\n",
        "# Section 10 Add Total Deformation and force reaction probe\n",
        "\n",
        "TOT_DEF = STAT_STRUC.Solution.AddTotalDeformation()\n",
        "\n",
        "# Add Force Reaction\n",
        "FRC_REAC_PROBE = STAT_STRUC.Solution.AddForceReaction()\n",
        "FRC_REAC_PROBE.BoundaryConditionSelection = FIX_SUP\n",
        "FRC_REAC_PROBE.ResultSelection =ProbeDisplayFilter.XAxis\n",
        "\n",
        "# Section 11 Solve and get the results.\n",
        "\n",
        "# Solve Static Analysis\n",
        "STAT_STRUC.Solution.Solve(True)\n",
        "\n",
        "dir_deformation_details = {\n",
        "\"Minimum\": str(DIR_DEF.Minimum),\n",
        "\"Maximum\": str(DIR_DEF.Maximum),\n",
        "\"Average\": str(DIR_DEF.Average),\n",
        "}\n",
        "\n",
        "json.dumps(dir_deformation_details)\n",
        "\"\"\"\n",
        ")\n",
        "print(output)"
      ]
    },
    {
      "cell_type": "markdown",
      "metadata": {},
      "source": [
        "Download output file from solve and print contents\n",
        "==================================================\n",
        "\n",
        "Download the `solve.out` file from the server to the current working\n",
        "directory and print the contents. Remove the `solve.out` file.\n"
      ]
    },
    {
      "cell_type": "code",
      "execution_count": null,
      "metadata": {
        "collapsed": false
      },
      "outputs": [],
      "source": [
        "def get_solve_out_path(mechanical):\n",
        "    solve_out_path = \"\"\n",
        "    for file_path in mechanical.list_files():\n",
        "        if file_path.find(\"solve.out\") != -1:\n",
        "            solve_out_path = file_path\n",
        "            break\n",
        "\n",
        "    return solve_out_path\n",
        "\n",
        "\n",
        "def write_file_contents_to_console(path):\n",
        "    with open(path, \"rt\") as file:\n",
        "        for line in file:\n",
        "            print(line, end=\"\")\n",
        "\n",
        "\n",
        "solve_out_path = get_solve_out_path(mechanical)\n",
        "\n",
        "if solve_out_path != \"\":\n",
        "    current_working_directory = os.getcwd()\n",
        "\n",
        "    local_file_path_list = mechanical.download(solve_out_path, target_dir=current_working_directory)\n",
        "    solve_out_local_path = local_file_path_list[0]\n",
        "    print(f\"Local solve.out path : {solve_out_local_path}\")\n",
        "\n",
        "    write_file_contents_to_console(solve_out_local_path)\n",
        "\n",
        "    os.remove(solve_out_local_path)"
      ]
    },
    {
      "cell_type": "markdown",
      "metadata": {},
      "source": [
        "Close Mechanical\n",
        "================\n",
        "\n",
        "Close the Mechanical instance.\n"
      ]
    },
    {
      "cell_type": "code",
      "execution_count": null,
      "metadata": {
        "collapsed": false
      },
      "outputs": [],
      "source": [
        "mechanical.exit()"
      ]
    }
  ],
  "metadata": {
    "kernelspec": {
      "display_name": "Python 3.7.9 64-bit",
      "language": "python",
      "name": "python3"
    },
    "language_info": {
      "codemirror_mode": {
        "name": "ipython",
        "version": 3
      },
      "file_extension": ".py",
      "mimetype": "text/x-python",
      "name": "python",
      "nbconvert_exporter": "python",
      "pygments_lexer": "ipython3",
      "version": "3.7.9"
    },
    "vscode": {
      "interpreter": {
        "hash": "c8ed140c8574515e5fda99a531d4aff67fde87593eb798b8babccf6a3038e1ae"
      }
    }
  },
  "nbformat": 4,
  "nbformat_minor": 0
}
