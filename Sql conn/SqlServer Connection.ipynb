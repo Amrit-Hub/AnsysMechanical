{
 "cells": [
  {
   "cell_type": "markdown",
   "metadata": {},
   "source": [
    "- System.Data Namespace\n",
    "- System.Data.SqlClient Namespace\n",
    "- ConnectionState Enum\n",
    "\n",
    "- SqlConnection Class\n",
    "- SqlConnection() Constructors\n",
    "- SqlConnection.ConnectionString Property\n",
    "- SqlConnection.CreateCommand() Method\n",
    "- SqlCommand.CommandText Property\n",
    "- SqlCommand.ExecuteReader Method\n",
    "- SqlDataReader Class\n",
    "- SqlDataReader.HasRows Property\n",
    "\n",
    "- SqlCommand Class\n",
    "- SqlCommand() Constructors"
   ]
  },
  {
   "cell_type": "code",
   "execution_count": 1,
   "metadata": {},
   "outputs": [],
   "source": [
    "import clr\n",
    "clr.AddReference('System.Data') # Namespace\n",
    "from System.Data import SqlClient, ConnectionState "
   ]
  },
  {
   "cell_type": "code",
   "execution_count": 14,
   "metadata": {},
   "outputs": [],
   "source": [
    "Server = 'TIGER03957\\SQLSERVER2022'\n",
    "Database = 'dbapsqlserver'\n",
    "User = 'amritsql'\n",
    "Password = 'Amrit-sql876'\n",
    "connectionString = 'Server = {}; Database = {}; Integrated Security=True; User = {}; Password = {}; Connect Timeout=10'.format(Server, Database, User, Password)\n",
    "connection = SqlClient.SqlConnection(connectionString)"
   ]
  },
  {
   "cell_type": "code",
   "execution_count": 4,
   "metadata": {},
   "outputs": [],
   "source": [
    "query = \"select * from dbo.tablea\""
   ]
  },
  {
   "cell_type": "code",
   "execution_count": 15,
   "metadata": {},
   "outputs": [
    {
     "name": "stdout",
     "output_type": "stream",
     "text": [
      "True\n",
      "1\n",
      "1\n",
      "2\n",
      "3\n",
      "4\n",
      "5\n"
     ]
    }
   ],
   "source": [
    "cmd = connection.CreateCommand()\n",
    "cmd.CommandText = query\n",
    "\n",
    "try:\n",
    "    connection.Open()\n",
    "    reader = cmd.ExecuteReader()\n",
    "    print(reader.HasRows)\n",
    "    print(reader.FieldCount)\n",
    "    while reader.Read():\n",
    "        print(reader['id'])\n",
    "        # print(reader[0])\n",
    "    connection.Close()\n",
    "except Exception as e:\n",
    "    print(e)\n",
    "    connection.Close()"
   ]
  },
  {
   "cell_type": "code",
   "execution_count": 49,
   "metadata": {},
   "outputs": [
    {
     "name": "stdout",
     "output_type": "stream",
     "text": [
      "True\n",
      "1\n",
      "1\n",
      "2\n",
      "3\n",
      "4\n"
     ]
    }
   ],
   "source": [
    "cmd = SqlClient.SqlCommand()\n",
    "cmd.Connection = connection\n",
    "cmd.CommandText = query\n",
    "\n",
    "try:\n",
    "    connection.Open()\n",
    "    reader = cmd.ExecuteReader()\n",
    "    print(reader.HasRows)\n",
    "    print(reader.FieldCount)\n",
    "    while reader.Read():\n",
    "        print(reader['id'])\n",
    "        # print(reader[0])\n",
    "    connection.Close()\n",
    "except Exception as e:\n",
    "    print(e)\n",
    "    connection.Close()"
   ]
  },
  {
   "cell_type": "code",
   "execution_count": 62,
   "metadata": {},
   "outputs": [
    {
     "name": "stdout",
     "output_type": "stream",
     "text": [
      "True\n",
      "1\n",
      "1\n",
      "2\n",
      "3\n",
      "4\n",
      "5\n"
     ]
    }
   ],
   "source": [
    "cmd = SqlClient.SqlCommand(query, connection)\n",
    "\n",
    "try:\n",
    "    connection.Open()\n",
    "    reader = cmd.ExecuteReader()\n",
    "    print(reader.HasRows)\n",
    "    print(reader.FieldCount)\n",
    "    while reader.Read():\n",
    "        print(reader['id'])\n",
    "        # print(reader[0])\n",
    "    connection.Close()\n",
    "except Exception as e:\n",
    "    print(e)\n",
    "    connection.Close()"
   ]
  },
  {
   "cell_type": "code",
   "execution_count": 61,
   "metadata": {},
   "outputs": [],
   "source": [
    "nonQuery = \"insert into dbo.tablea (id) values (5)\"\n",
    "# nonQuery = \"delete from dbo.tablea where id = 5\"\n",
    "cmd = SqlClient.SqlCommand(nonQuery, connection)\n",
    "\n",
    "try:\n",
    "    connection.Open()\n",
    "    cmd.ExecuteNonQuery()\n",
    "    connection.Close()\n",
    "except Exception as e:\n",
    "    print(e)\n",
    "    connection.Close()"
   ]
  }
 ],
 "metadata": {
  "kernelspec": {
   "display_name": "Python 3.7.0 64-bit",
   "language": "python",
   "name": "python3"
  },
  "language_info": {
   "codemirror_mode": {
    "name": "ipython",
    "version": 3
   },
   "file_extension": ".py",
   "mimetype": "text/x-python",
   "name": "python",
   "nbconvert_exporter": "python",
   "pygments_lexer": "ipython3",
   "version": "3.7.0"
  },
  "orig_nbformat": 4,
  "vscode": {
   "interpreter": {
    "hash": "5109d816b82be14675a6b11f8e0f0d2e80f029176ed3710d54e125caa8520dfd"
   }
  }
 },
 "nbformat": 4,
 "nbformat_minor": 2
}
